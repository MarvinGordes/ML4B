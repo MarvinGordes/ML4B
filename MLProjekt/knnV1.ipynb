{
 "cells": [
  {
   "cell_type": "code",
   "execution_count": 4,
   "metadata": {},
   "outputs": [
    {
     "name": "stdout",
     "output_type": "stream",
     "text": [
      "Genauigkeit: 1.0\n"
     ]
    },
    {
     "name": "stderr",
     "output_type": "stream",
     "text": [
      "/var/folders/1r/fqrs1x9x7fj4qwxb685p8xxc0000gn/T/ipykernel_7803/1582393694.py:16: FutureWarning: The frame.append method is deprecated and will be removed from pandas in a future version. Use pandas.concat instead.\n",
      "  data = data.append(df, ignore_index=True)\n",
      "/var/folders/1r/fqrs1x9x7fj4qwxb685p8xxc0000gn/T/ipykernel_7803/1582393694.py:16: FutureWarning: The frame.append method is deprecated and will be removed from pandas in a future version. Use pandas.concat instead.\n",
      "  data = data.append(df, ignore_index=True)\n",
      "/var/folders/1r/fqrs1x9x7fj4qwxb685p8xxc0000gn/T/ipykernel_7803/1582393694.py:16: FutureWarning: The frame.append method is deprecated and will be removed from pandas in a future version. Use pandas.concat instead.\n",
      "  data = data.append(df, ignore_index=True)\n",
      "/var/folders/1r/fqrs1x9x7fj4qwxb685p8xxc0000gn/T/ipykernel_7803/1582393694.py:16: FutureWarning: The frame.append method is deprecated and will be removed from pandas in a future version. Use pandas.concat instead.\n",
      "  data = data.append(df, ignore_index=True)\n",
      "/var/folders/1r/fqrs1x9x7fj4qwxb685p8xxc0000gn/T/ipykernel_7803/1582393694.py:16: FutureWarning: The frame.append method is deprecated and will be removed from pandas in a future version. Use pandas.concat instead.\n",
      "  data = data.append(df, ignore_index=True)\n",
      "/var/folders/1r/fqrs1x9x7fj4qwxb685p8xxc0000gn/T/ipykernel_7803/1582393694.py:16: FutureWarning: The frame.append method is deprecated and will be removed from pandas in a future version. Use pandas.concat instead.\n",
      "  data = data.append(df, ignore_index=True)\n",
      "/var/folders/1r/fqrs1x9x7fj4qwxb685p8xxc0000gn/T/ipykernel_7803/1582393694.py:16: FutureWarning: The frame.append method is deprecated and will be removed from pandas in a future version. Use pandas.concat instead.\n",
      "  data = data.append(df, ignore_index=True)\n",
      "/var/folders/1r/fqrs1x9x7fj4qwxb685p8xxc0000gn/T/ipykernel_7803/1582393694.py:16: FutureWarning: The frame.append method is deprecated and will be removed from pandas in a future version. Use pandas.concat instead.\n",
      "  data = data.append(df, ignore_index=True)\n",
      "/var/folders/1r/fqrs1x9x7fj4qwxb685p8xxc0000gn/T/ipykernel_7803/1582393694.py:16: FutureWarning: The frame.append method is deprecated and will be removed from pandas in a future version. Use pandas.concat instead.\n",
      "  data = data.append(df, ignore_index=True)\n",
      "/var/folders/1r/fqrs1x9x7fj4qwxb685p8xxc0000gn/T/ipykernel_7803/1582393694.py:16: FutureWarning: The frame.append method is deprecated and will be removed from pandas in a future version. Use pandas.concat instead.\n",
      "  data = data.append(df, ignore_index=True)\n",
      "/var/folders/1r/fqrs1x9x7fj4qwxb685p8xxc0000gn/T/ipykernel_7803/1582393694.py:16: FutureWarning: The frame.append method is deprecated and will be removed from pandas in a future version. Use pandas.concat instead.\n",
      "  data = data.append(df, ignore_index=True)\n",
      "/var/folders/1r/fqrs1x9x7fj4qwxb685p8xxc0000gn/T/ipykernel_7803/1582393694.py:16: FutureWarning: The frame.append method is deprecated and will be removed from pandas in a future version. Use pandas.concat instead.\n",
      "  data = data.append(df, ignore_index=True)\n",
      "/var/folders/1r/fqrs1x9x7fj4qwxb685p8xxc0000gn/T/ipykernel_7803/1582393694.py:16: FutureWarning: The frame.append method is deprecated and will be removed from pandas in a future version. Use pandas.concat instead.\n",
      "  data = data.append(df, ignore_index=True)\n",
      "/var/folders/1r/fqrs1x9x7fj4qwxb685p8xxc0000gn/T/ipykernel_7803/1582393694.py:16: FutureWarning: The frame.append method is deprecated and will be removed from pandas in a future version. Use pandas.concat instead.\n",
      "  data = data.append(df, ignore_index=True)\n",
      "/var/folders/1r/fqrs1x9x7fj4qwxb685p8xxc0000gn/T/ipykernel_7803/1582393694.py:16: FutureWarning: The frame.append method is deprecated and will be removed from pandas in a future version. Use pandas.concat instead.\n",
      "  data = data.append(df, ignore_index=True)\n",
      "/var/folders/1r/fqrs1x9x7fj4qwxb685p8xxc0000gn/T/ipykernel_7803/1582393694.py:16: FutureWarning: The frame.append method is deprecated and will be removed from pandas in a future version. Use pandas.concat instead.\n",
      "  data = data.append(df, ignore_index=True)\n",
      "/var/folders/1r/fqrs1x9x7fj4qwxb685p8xxc0000gn/T/ipykernel_7803/1582393694.py:16: FutureWarning: The frame.append method is deprecated and will be removed from pandas in a future version. Use pandas.concat instead.\n",
      "  data = data.append(df, ignore_index=True)\n",
      "/var/folders/1r/fqrs1x9x7fj4qwxb685p8xxc0000gn/T/ipykernel_7803/1582393694.py:16: FutureWarning: The frame.append method is deprecated and will be removed from pandas in a future version. Use pandas.concat instead.\n",
      "  data = data.append(df, ignore_index=True)\n",
      "/var/folders/1r/fqrs1x9x7fj4qwxb685p8xxc0000gn/T/ipykernel_7803/1582393694.py:16: FutureWarning: The frame.append method is deprecated and will be removed from pandas in a future version. Use pandas.concat instead.\n",
      "  data = data.append(df, ignore_index=True)\n"
     ]
    }
   ],
   "source": [
    "import glob\n",
    "import pandas as pd\n",
    "from sklearn.model_selection import train_test_split\n",
    "from sklearn.neighbors import KNeighborsClassifier\n",
    "from sklearn.metrics import accuracy_score\n",
    "\n",
    "# Pfade zu den CSV-Dateien für Türklopfen und Wassergeräusche\n",
    "knock_files = glob.glob('/Users/martin/Documents/GitHub/ML4B/Deaf/AudioAndersOrga/Knock/*.csv')\n",
    "water_files = glob.glob('/Users/martin/Documents/GitHub/ML4B/Deaf/AudioAndersOrga/Water/*.csv')\n",
    "\n",
    "# Funktion zum Laden der CSV-Dateien und Abschneiden der Spalten\n",
    "def load_csv_files(files):\n",
    "    data = pd.DataFrame()\n",
    "    for file in files:\n",
    "        df = pd.read_csv(file, usecols=['time', 'dBFS'])\n",
    "        data = data.append(df, ignore_index=True)\n",
    "    return data\n",
    "\n",
    "# Lade die Türklopf- und Wassergeräusch-Daten aus den CSV-Dateien\n",
    "knock_data = load_csv_files(knock_files)\n",
    "water_data = load_csv_files(water_files)\n",
    "\n",
    "# Füge eine Spalte hinzu, um die Klassenlabels zu kennzeichnen\n",
    "knock_data['Label'] = 'Knock'\n",
    "water_data['Label'] = 'Water'\n",
    "\n",
    "# Kombiniere die Daten zu einem einzigen Datensatz\n",
    "combined_data = pd.concat([knock_data, water_data])\n",
    "\n",
    "# Aufteilen der Daten in Trainings- und Testdaten\n",
    "features = combined_data.drop('Label', axis=1)\n",
    "labels = combined_data['Label']\n",
    "X_train, X_test, y_train, y_test = train_test_split(features, labels, test_size=0.2, random_state=42)\n",
    "\n",
    "# Erstelle den KNN-Klassifikator\n",
    "knn = KNeighborsClassifier(n_neighbors=3)\n",
    "\n",
    "# Trainiere den Klassifikator\n",
    "knn.fit(X_train, y_train)\n",
    "\n",
    "# Vorhersagen für die Testdaten machen\n",
    "y_pred = knn.predict(X_test)\n",
    "\n",
    "# Bewertung der Genauigkeit des Klassifikators\n",
    "accuracy = accuracy_score(y_test, y_pred)\n",
    "print('Genauigkeit:', accuracy)\n"
   ]
  }
 ],
 "metadata": {
  "kernelspec": {
   "display_name": "Python 3",
   "language": "python",
   "name": "python3"
  },
  "language_info": {
   "codemirror_mode": {
    "name": "ipython",
    "version": 3
   },
   "file_extension": ".py",
   "mimetype": "text/x-python",
   "name": "python",
   "nbconvert_exporter": "python",
   "pygments_lexer": "ipython3",
   "version": "3.9.16"
  },
  "orig_nbformat": 4
 },
 "nbformat": 4,
 "nbformat_minor": 2
}
